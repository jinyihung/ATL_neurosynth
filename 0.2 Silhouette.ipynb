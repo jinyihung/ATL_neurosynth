{
 "cells": [
  {
   "cell_type": "markdown",
   "metadata": {},
   "source": [
    "\n",
    "## define what to cluster\n",
    "\n",
    "This document contains part of the codes in -lfc\n",
    "\n",
    "dataset = 0.6 (July 2015)\n",
    "minimum number of studies = 80\n",
    "mask = bilateral ATL"
   ]
  },
  {
   "cell_type": "code",
   "execution_count": 1,
   "metadata": {},
   "outputs": [],
   "source": [
    "%matplotlib inline"
   ]
  },
  {
   "cell_type": "code",
   "execution_count": 2,
   "metadata": {},
   "outputs": [],
   "source": [
    "from neurosynth.base.dataset import Dataset\n",
    "dataset = Dataset.load(\"data/neurosynth_0.6_400_4.pkl\")"
   ]
  },
  {
   "cell_type": "code",
   "execution_count": 3,
   "metadata": {},
   "outputs": [],
   "source": [
    "from neurosynth.analysis.cluster import Clusterable"
   ]
  },
  {
   "cell_type": "code",
   "execution_count": 4,
   "metadata": {},
   "outputs": [],
   "source": [
    "mask = 'masks/Xu_ATLp2.nii'"
   ]
  },
  {
   "cell_type": "code",
   "execution_count": 5,
   "metadata": {},
   "outputs": [],
   "source": [
    "roi = Clusterable(dataset, mask=mask,min_studies=80,feature_threshold=0.05)"
   ]
  },
  {
   "cell_type": "code",
   "execution_count": 6,
   "metadata": {},
   "outputs": [],
   "source": [
    "reference = Clusterable(dataset, min_studies=80,feature_threshold=0.05)"
   ]
  },
  {
   "cell_type": "code",
   "execution_count": 7,
   "metadata": {},
   "outputs": [],
   "source": [
    "from copy import deepcopy\n",
    "import numpy as np\n",
    "from six import string_types\n",
    "from sklearn import decomposition as sk_decomp\n",
    "from sklearn import cluster as sk_cluster\n",
    "from sklearn.metrics import pairwise_distances\n",
    "from os.path import exists, join\n",
    "from os import makedirs\n",
    "from nibabel import nifti1\n",
    "from neurosynth.analysis import meta\n",
    "\n",
    "\n",
    "\n",
    "reduce_reference = 'pca'\n",
    "n_components = 100\n",
    "reduce_reference = {\n",
    "                'pca': sk_decomp.RandomizedPCA,\n",
    "                'ica': sk_decomp.FastICA\n",
    "            }[reduce_reference](n_components)"
   ]
  },
  {
   "cell_type": "code",
   "execution_count": 8,
   "metadata": {},
   "outputs": [],
   "source": [
    "method = 'coactivation'\n",
    "transpose = (method == 'coactivation')"
   ]
  },
  {
   "cell_type": "code",
   "execution_count": 9,
   "metadata": {},
   "outputs": [],
   "source": [
    "reference = reference.transform(reduce_reference, transpose=transpose)"
   ]
  },
  {
   "cell_type": "code",
   "execution_count": 10,
   "metadata": {},
   "outputs": [],
   "source": [
    "distance_metric = 'correlation'\n",
    "distances = pairwise_distances(roi.data, reference.data,\n",
    "                                       metric=distance_metric)"
   ]
  },
  {
   "cell_type": "code",
   "execution_count": 11,
   "metadata": {
    "scrolled": true
   },
   "outputs": [
    {
     "name": "stdout",
     "output_type": "stream",
     "text": [
      "For n_clusters = 2 The average silhouette_score is : 0.190294163513\n",
      "For n_clusters = 3 The average silhouette_score is : 0.167182073533\n",
      "For n_clusters = 4 The average silhouette_score is : 0.184467016516\n",
      "For n_clusters = 5 The average silhouette_score is : 0.154431718383\n",
      "For n_clusters = 6 The average silhouette_score is : 0.152940636074\n",
      "For n_clusters = 7 The average silhouette_score is : 0.163771721997\n",
      "For n_clusters = 8 The average silhouette_score is : 0.151980647777\n",
      "For n_clusters = 9 The average silhouette_score is : 0.15673433723\n",
      "For n_clusters = 10 The average silhouette_score is : 0.160857904424\n",
      "For n_clusters = 11 The average silhouette_score is : 0.15334487601\n",
      "For n_clusters = 12 The average silhouette_score is : 0.157220179237\n",
      "For n_clusters = 13 The average silhouette_score is : 0.15521439245\n",
      "For n_clusters = 14 The average silhouette_score is : 0.155730637855\n",
      "For n_clusters = 15 The average silhouette_score is : 0.151272493316\n"
     ]
    }
   ],
   "source": [
    "from __future__ import print_function\n",
    "\n",
    "from sklearn.datasets import make_blobs\n",
    "from sklearn.cluster import KMeans\n",
    "from sklearn.metrics import silhouette_samples, silhouette_score\n",
    "\n",
    "import matplotlib.pyplot as plt\n",
    "import matplotlib.cm as cm\n",
    "import numpy as np\n",
    "\n",
    "range_n_clusters = [2,3,4,5,6,7,8,9,10,11,12,13,14,15]\n",
    "\n",
    "for n_clusters in range_n_clusters:\n",
    "\n",
    "    \n",
    "    #clustering_algorithm = 'kmeans'\n",
    "    #clustering_kwargs={}\n",
    "    #clustering_algorithm = {\n",
    "     #       'kmeans': sk_cluster.KMeans,\n",
    "     #      'minik': sk_cluster.MiniBatchKMeans\n",
    "     #   }[clustering_algorithm](n_clusters, **clustering_kwargs)\n",
    "    \n",
    "    \n",
    "    # Initialize the clusterer with n_clusters value and a random generator\n",
    "    # seed of 10 for reproducibility.\n",
    "    #labels = clustering_algorithm.fit_predict(distances) \n",
    "    \n",
    "    clusterer = KMeans(n_clusters=n_clusters, random_state=10)\n",
    "    labels = clusterer.fit_predict(distances)\n",
    "    \n",
    "    # The silhouette_score gives the average value for all the samples.\n",
    "    # This gives a perspective into the density and separation of the formed\n",
    "    # clusters\n",
    "    silhouette_avg = silhouette_score(distances, labels)\n",
    "    print(\"For n_clusters =\", n_clusters,\n",
    "          \"The average silhouette_score is :\", silhouette_avg)"
   ]
  }
 ],
 "metadata": {
  "anaconda-cloud": {},
  "kernelspec": {
   "display_name": "Python 2",
   "language": "python",
   "name": "python2"
  },
  "language_info": {
   "codemirror_mode": {
    "name": "ipython",
    "version": 2
   },
   "file_extension": ".py",
   "mimetype": "text/x-python",
   "name": "python",
   "nbconvert_exporter": "python",
   "pygments_lexer": "ipython2",
   "version": "2.7.12"
  }
 },
 "nbformat": 4,
 "nbformat_minor": 2
}
